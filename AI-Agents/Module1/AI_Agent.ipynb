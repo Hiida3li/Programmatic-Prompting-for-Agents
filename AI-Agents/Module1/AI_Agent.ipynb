{
 "cells": [
  {
   "cell_type": "markdown",
   "metadata": {},
   "source": [
    "# File Interaction and Q&A:\n",
    "This agent is designed to interact with a local file system to perform three primary tasks:\n",
    "\n",
    "1. List files in a specified directory\n",
    "2. Read file contents\n",
    "3. Answer user questions based on the content of those files"
   ]
  },
  {
   "cell_type": "markdown",
   "metadata": {},
   "source": [
    "# The agent loop \n",
    "The Agent Loop is the core engine driving an AI agent’s decision-making process.\n",
    "\n",
    "It allows the agent to interact dynamically with its environment by continuously generating actions, executing them, and adapting based on the results.\n",
    "\n",
    "This loop makes the agent capable of completing complex tasks step by step."
   ]
  },
  {
   "cell_type": "code",
   "execution_count": 1,
   "metadata": {},
   "outputs": [
    {
     "name": "stdout",
     "output_type": "stream",
     "text": [
      "API key loaded successfully!\n"
     ]
    }
   ],
   "source": [
    "import os\n",
    "from dotenv import load_dotenv\n",
    "\n",
    "# Get API key from environment variables\n",
    "load_dotenv()\n",
    "api_key = os.environ.get('OPENAI_API_KEY')\n",
    "\n",
    "if api_key:\n",
    "    print(\"API key loaded successfully!\")\n",
    "else:\n",
    "    print(\"Error: API key not found in .env file\")\n"
   ]
  },
  {
   "cell_type": "code",
   "execution_count": 4,
   "metadata": {},
   "outputs": [],
   "source": [
    "from litellm import completion\n",
    "from typing import List, Dict\n",
    "import sys\n",
    "\n",
    "def generate_response(messages: List[Dict]) -> str:\n",
    "    \"\"\"Call LLM to get response\"\"\"\n",
    "    response = completion(\n",
    "      model=\"openai/gpt-4o\",\n",
    "      messages=messages,\n",
    "      max_tokens=1000\n",
    "   )\n",
    "    return response.choices[0].message.content\n"
   ]
  },
  {
   "cell_type": "code",
   "execution_count": 5,
   "metadata": {},
   "outputs": [],
   "source": [
    "def parse_action(response):\n",
    "    \"\"\"Parse the agent's response to extract the action and its parameters.\"\"\"\n",
    "    try:\n",
    "        # Extract the action JSON from between ```action and ``` tags\n",
    "        action_text = response.split(\"```action\")[1].split(\"```\")[0].strip()\n",
    "        action = json.loads(action_text)\n",
    "        return action\n",
    "    except Exception as e:\n",
    "        print(f\"Error parsing action: {e}\")\n",
    "        return {\n",
    "            \"tool_name\": \"error\",\n",
    "            \"args\": {\"message\": \"Failed to parse the action. Make sure the response follows the correct format.\"}\n",
    "        }"
   ]
  },
  {
   "cell_type": "code",
   "execution_count": 6,
   "metadata": {},
   "outputs": [],
   "source": [
    "def list_files():\n",
    "    \"\"\"List all files in the current directory.\"\"\"\n",
    "    try:\n",
    "        files = [f for f in os.listdir('.') if os.path.isfile(f)]\n",
    "        return files\n",
    "    except Exception as e:\n",
    "        return f\"Error listing files: {e}\""
   ]
  },
  {
   "cell_type": "code",
   "execution_count": 7,
   "metadata": {},
   "outputs": [],
   "source": [
    "def read_file(file_name):\n",
    "    \"\"\"Read the content of a file.\"\"\"\n",
    "    try:\n",
    "        if not os.path.exists(file_name):\n",
    "            return f\"Error: File '{file_name}' does not exist.\"\n",
    "        \n",
    "        with open(file_name, 'r', encoding='utf-8') as file:\n",
    "            content = file.read()\n",
    "        return content\n",
    "    except Exception as e:\n",
    "        return f\"Error reading file: {e}\""
   ]
  }
 ],
 "metadata": {
  "kernelspec": {
   "display_name": "Programmatic-Prompting-for-Agents",
   "language": "python",
   "name": "programmatic-prompting-for-agents"
  },
  "language_info": {
   "codemirror_mode": {
    "name": "ipython",
    "version": 3
   },
   "file_extension": ".py",
   "mimetype": "text/x-python",
   "name": "python",
   "nbconvert_exporter": "python",
   "pygments_lexer": "ipython3",
   "version": "3.12.5"
  }
 },
 "nbformat": 4,
 "nbformat_minor": 2
}
