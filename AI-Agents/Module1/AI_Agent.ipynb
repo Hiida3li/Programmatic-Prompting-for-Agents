{
 "cells": [
  {
   "cell_type": "markdown",
   "metadata": {},
   "source": [
    "# File Interaction and Q&A:\n",
    "This agent is designed to interact with a local file system to perform three primary tasks:\n",
    "\n",
    "1. List files in a specified directory\n",
    "2. Read file contents\n",
    "3. Answer user questions based on the content of those files"
   ]
  },
  {
   "cell_type": "markdown",
   "metadata": {},
   "source": [
    "# The agent loop \n",
    "The Agent Loop is the core engine driving an AI agent’s decision-making process.\n",
    "\n",
    "It allows the agent to interact dynamically with its environment by continuously generating actions, executing them, and adapting based on the results.\n",
    "\n",
    "This loop makes the agent capable of completing complex tasks step by step."
   ]
  },
  {
   "cell_type": "code",
   "execution_count": 1,
   "metadata": {},
   "outputs": [
    {
     "name": "stdout",
     "output_type": "stream",
     "text": [
      "API key loaded successfully!\n"
     ]
    }
   ],
   "source": [
    "import os\n",
    "from dotenv import load_dotenv\n",
    "\n",
    "# Get API key from environment variables\n",
    "load_dotenv()\n",
    "api_key = os.environ.get('OPENAI_API_KEY')\n",
    "\n",
    "if api_key:\n",
    "    print(\"API key loaded successfully!\")\n",
    "else:\n",
    "    print(\"Error: API key not found in .env file\")\n"
   ]
  },
  {
   "cell_type": "code",
   "execution_count": 13,
   "metadata": {},
   "outputs": [],
   "source": [
    "from litellm import completion\n",
    "from typing import List, Dict\n",
    "import sys\n",
    "import os\n",
    "import json\n",
    "def generate_response(messages: List[Dict]) -> str:\n",
    "    \"\"\"Call LLM to get response\"\"\"\n",
    "    response = completion(\n",
    "      model=\"openai/gpt-4o\",\n",
    "      messages=messages,\n",
    "      max_tokens=1000\n",
    "   )\n",
    "    return response.choices[0].message.content\n"
   ]
  },
  {
   "cell_type": "code",
   "execution_count": 14,
   "metadata": {},
   "outputs": [],
   "source": [
    "def parse_action(response):\n",
    "    \"\"\"Parse the agent's response to extract the action and its parameters.\"\"\"\n",
    "    try:\n",
    "        # Extract the action JSON from between ```action and ``` tags\n",
    "        action_text = response.split(\"```action\")[1].split(\"```\")[0].strip()\n",
    "        action = json.loads(action_text)\n",
    "        return action\n",
    "    except Exception as e:\n",
    "        print(f\"Error parsing action: {e}\")\n",
    "        return {\n",
    "            \"tool_name\": \"error\",\n",
    "            \"args\": {\"message\": \"Failed to parse the action. Make sure the response follows the correct format.\"}\n",
    "        }"
   ]
  },
  {
   "cell_type": "code",
   "execution_count": 6,
   "metadata": {},
   "outputs": [],
   "source": [
    "def list_files():\n",
    "    \"\"\"List all files in the current directory.\"\"\"\n",
    "    try:\n",
    "        files = [f for f in os.listdir('.') if os.path.isfile(f)]\n",
    "        return files\n",
    "    except Exception as e:\n",
    "        return f\"Error listing files: {e}\""
   ]
  },
  {
   "cell_type": "code",
   "execution_count": 7,
   "metadata": {},
   "outputs": [],
   "source": [
    "def read_file(file_name):\n",
    "    \"\"\"Read the content of a file.\"\"\"\n",
    "    try:\n",
    "        if not os.path.exists(file_name):\n",
    "            return f\"Error: File '{file_name}' does not exist.\"\n",
    "        \n",
    "        with open(file_name, 'r', encoding='utf-8') as file:\n",
    "            content = file.read()\n",
    "        return content\n",
    "    except Exception as e:\n",
    "        return f\"Error reading file: {e}\""
   ]
  },
  {
   "cell_type": "code",
   "execution_count": 9,
   "metadata": {},
   "outputs": [],
   "source": [
    "def run_agent(task, max_iterations=10):\n",
    "    \"\"\"Run the agent loop to perform the specified task.\"\"\"\n",
    "    # Define agent rules\n",
    "    agent_rules = [{\n",
    "        \"role\": \"system\",\n",
    "        \"content\": \"\"\"\n",
    "You are an AI agent that can perform tasks by using available tools.\n",
    "\n",
    "Available tools:\n",
    "- list_files() -> List[str]: List all files in the current directory.\n",
    "- read_file(file_name: str) -> str: Read the content of a file.\n",
    "- terminate(message: str): End the agent loop and print a summary to the user.\n",
    "\n",
    "If a user asks about files, list them before reading.\n",
    "\n",
    "Every response MUST have an action.\n",
    "Respond in this format:\n",
    "\n",
    "```action\n",
    "{\n",
    "    \"tool_name\": \"insert tool_name\",\n",
    "    \"args\": {...fill in any required arguments here...}\n",
    "}\n",
    "```\n",
    "\"\"\"\n",
    "    }]\n",
    "    \n",
    "    # Initialize memory with the user's task\n",
    "    memory = [\n",
    "        {\"role\": \"user\", \"content\": task}\n",
    "    ]\n",
    "    \n",
    "    iterations = 0\n",
    "    \n",
    "    # The Agent Loop\n",
    "    while iterations < max_iterations:\n",
    "        # 1. Construct prompt: Combine agent rules with memory\n",
    "        prompt = agent_rules + memory\n",
    "        \n",
    "        # 2. Generate response from LLM\n",
    "        print(\"\\nAgent thinking...\")\n",
    "        response = generate_response(prompt)\n",
    "        print(f\"Agent response: {response}\")\n",
    "        \n",
    "        # 3. Parse response to determine action\n",
    "        action = parse_action(response)\n",
    "        \n",
    "        # 4. Execute action\n",
    "        if action[\"tool_name\"] == \"list_files\":\n",
    "            result = {\"result\": list_files()}\n",
    "        elif action[\"tool_name\"] == \"read_file\":\n",
    "            result = {\"result\": read_file(action[\"args\"][\"file_name\"])}\n",
    "        elif action[\"tool_name\"] == \"terminate\":\n",
    "            print(f\"\\nAgent terminated: {action['args']['message']}\")\n",
    "            break\n",
    "        elif action[\"tool_name\"] == \"error\":\n",
    "            result = {\"error\": action[\"args\"][\"message\"]}\n",
    "        else:\n",
    "            result = {\"error\": f\"Unknown action: {action['tool_name']}\"}\n",
    "        \n",
    "        print(f\"Action result: {result}\")\n",
    "        \n",
    "        # 5. Update memory with response and results\n",
    "        memory.extend([\n",
    "            {\"role\": \"assistant\", \"content\": response},\n",
    "            {\"role\": \"user\", \"content\": json.dumps(result)}\n",
    "        ])\n",
    "        \n",
    "        # 6. Check termination condition\n",
    "        if action[\"tool_name\"] == \"terminate\":\n",
    "            break\n",
    "        \n",
    "        iterations += 1\n",
    "    \n",
    "    if iterations >= max_iterations:\n",
    "        print(f\"\\nReached maximum iterations ({max_iterations}). Agent loop terminated.\")\n"
   ]
  },
  {
   "cell_type": "code",
   "execution_count": 12,
   "metadata": {},
   "outputs": [
    {
     "name": "stdout",
     "output_type": "stream",
     "text": [
      "\n",
      "Agent thinking...\n",
      "Agent response: ```action\n",
      "{\n",
      "    \"tool_name\": \"list_files\",\n",
      "    \"args\": {}\n",
      "}\n",
      "```\n",
      "Error parsing action: name 'json' is not defined\n",
      "Action result: {'error': 'Failed to parse the action. Make sure the response follows the correct format.'}\n"
     ]
    },
    {
     "ename": "NameError",
     "evalue": "name 'json' is not defined",
     "output_type": "error",
     "traceback": [
      "\u001b[0;31m---------------------------------------------------------------------------\u001b[0m",
      "\u001b[0;31mNameError\u001b[0m                                 Traceback (most recent call last)",
      "Cell \u001b[0;32mIn[12], line 4\u001b[0m\n\u001b[1;32m      1\u001b[0m \u001b[38;5;28;01mif\u001b[39;00m \u001b[38;5;18m__name__\u001b[39m \u001b[38;5;241m==\u001b[39m \u001b[38;5;124m\"\u001b[39m\u001b[38;5;124m__main__\u001b[39m\u001b[38;5;124m\"\u001b[39m:\n\u001b[1;32m      2\u001b[0m     \u001b[38;5;66;03m# Example usage\u001b[39;00m\n\u001b[1;32m      3\u001b[0m     user_task \u001b[38;5;241m=\u001b[39m \u001b[38;5;28minput\u001b[39m(\u001b[38;5;124m\"\u001b[39m\u001b[38;5;124mWhat would you like the agent to do? \u001b[39m\u001b[38;5;124m\"\u001b[39m)\n\u001b[0;32m----> 4\u001b[0m     \u001b[43mrun_agent\u001b[49m\u001b[43m(\u001b[49m\u001b[43muser_task\u001b[49m\u001b[43m)\u001b[49m\n",
      "Cell \u001b[0;32mIn[9], line 66\u001b[0m, in \u001b[0;36mrun_agent\u001b[0;34m(task, max_iterations)\u001b[0m\n\u001b[1;32m     61\u001b[0m \u001b[38;5;28mprint\u001b[39m(\u001b[38;5;124mf\u001b[39m\u001b[38;5;124m\"\u001b[39m\u001b[38;5;124mAction result: \u001b[39m\u001b[38;5;132;01m{\u001b[39;00mresult\u001b[38;5;132;01m}\u001b[39;00m\u001b[38;5;124m\"\u001b[39m)\n\u001b[1;32m     63\u001b[0m \u001b[38;5;66;03m# 5. Update memory with response and results\u001b[39;00m\n\u001b[1;32m     64\u001b[0m memory\u001b[38;5;241m.\u001b[39mextend([\n\u001b[1;32m     65\u001b[0m     {\u001b[38;5;124m\"\u001b[39m\u001b[38;5;124mrole\u001b[39m\u001b[38;5;124m\"\u001b[39m: \u001b[38;5;124m\"\u001b[39m\u001b[38;5;124massistant\u001b[39m\u001b[38;5;124m\"\u001b[39m, \u001b[38;5;124m\"\u001b[39m\u001b[38;5;124mcontent\u001b[39m\u001b[38;5;124m\"\u001b[39m: response},\n\u001b[0;32m---> 66\u001b[0m     {\u001b[38;5;124m\"\u001b[39m\u001b[38;5;124mrole\u001b[39m\u001b[38;5;124m\"\u001b[39m: \u001b[38;5;124m\"\u001b[39m\u001b[38;5;124muser\u001b[39m\u001b[38;5;124m\"\u001b[39m, \u001b[38;5;124m\"\u001b[39m\u001b[38;5;124mcontent\u001b[39m\u001b[38;5;124m\"\u001b[39m: \u001b[43mjson\u001b[49m\u001b[38;5;241m.\u001b[39mdumps(result)}\n\u001b[1;32m     67\u001b[0m ])\n\u001b[1;32m     69\u001b[0m \u001b[38;5;66;03m# 6. Check termination condition\u001b[39;00m\n\u001b[1;32m     70\u001b[0m \u001b[38;5;28;01mif\u001b[39;00m action[\u001b[38;5;124m\"\u001b[39m\u001b[38;5;124mtool_name\u001b[39m\u001b[38;5;124m\"\u001b[39m] \u001b[38;5;241m==\u001b[39m \u001b[38;5;124m\"\u001b[39m\u001b[38;5;124mterminate\u001b[39m\u001b[38;5;124m\"\u001b[39m:\n",
      "\u001b[0;31mNameError\u001b[0m: name 'json' is not defined"
     ]
    }
   ],
   "source": [
    "if __name__ == \"__main__\":\n",
    "    # Example usage\n",
    "    user_task = input(\"What would you like the agent to do? \")\n",
    "    run_agent(user_task)"
   ]
  },
  {
   "cell_type": "code",
   "execution_count": null,
   "metadata": {},
   "outputs": [],
   "source": []
  }
 ],
 "metadata": {
  "kernelspec": {
   "display_name": "Programmatic-Prompting-for-Agents",
   "language": "python",
   "name": "programmatic-prompting-for-agents"
  },
  "language_info": {
   "codemirror_mode": {
    "name": "ipython",
    "version": 3
   },
   "file_extension": ".py",
   "mimetype": "text/x-python",
   "name": "python",
   "nbconvert_exporter": "python",
   "pygments_lexer": "ipython3",
   "version": "3.12.5"
  }
 },
 "nbformat": 4,
 "nbformat_minor": 2
}
