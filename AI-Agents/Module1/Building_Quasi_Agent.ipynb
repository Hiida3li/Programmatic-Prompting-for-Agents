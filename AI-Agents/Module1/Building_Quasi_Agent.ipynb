{
 "cells": [
  {
   "cell_type": "markdown",
   "metadata": {},
   "source": [
    "# Building a Quasi-Agent\n",
    "\n",
    "A quasi-agent is like a lightweight version of an AI agent. It acts as a smart assistant that can follow instructions step by step,\n",
    "\n",
    "but it can’t make decisions or learn from feedback like a full-fledged agent would.\n",
    "\n",
    "In this case, we’re building one that:\n",
    "\n",
    "- Asks the user to provide a customer complaint (like a chatbot)\n",
    "- Generates a professional and empathetic initial response\n",
    "- Enhances the tone and adds personalization to the message\n",
    "- Appends a compensation or resolution plan to retain customer trust\n",
    "\n",
    "It’s a controlled simulation of an AI assistant with memory, \n",
    "\n",
    "built to practice how to maintain context across steps and manage multi-turn interactions using prompt chaining."
   ]
  },
  {
   "cell_type": "markdown",
   "metadata": {},
   "source": [
    "------------------------------------------------------------------------------------------------------------"
   ]
  },
  {
   "cell_type": "markdown",
   "metadata": {},
   "source": [
    "# Quasi-Agent Architecture:\n",
    "\n",
    "The goal is to simulate a customer service agent that helps respond to unhappy customers by walking through 3 distinct steps:\n",
    "\n",
    "1- Initial Complaint Response Generation: {The quasi-agent takes a customer complaint as input and generates the response.}\n",
    "\n",
    "2- Tone and Personalization Enhancement: { 1. The draft from Step 1 is passed as input again.\n",
    "\n",
    "                                      2. The agent improves the tone friendly and adds personal touches, such as using the customer’s name or order details, to make the response more human and caring.}\n",
    "\n",
    "3- Add Compensation or Action Plan: { 1. The enhanced message is passed to the agent once more.\n",
    "\n",
    "                                  2. The agent appends an apology gift to help retain customer trust and satisfaction.}"
   ]
  },
  {
   "cell_type": "code",
   "execution_count": 8,
   "metadata": {},
   "outputs": [],
   "source": [
    "import os \n",
    "from litellm import completion\n",
    "from typing import List, Dict"
   ]
  },
  {
   "cell_type": "code",
   "execution_count": 9,
   "metadata": {},
   "outputs": [
    {
     "name": "stdout",
     "output_type": "stream",
     "text": [
      "API key loaded successfully!\n"
     ]
    }
   ],
   "source": [
    "import os\n",
    "from dotenv import load_dotenv\n",
    "\n",
    "# Get API key from environment variables\n",
    "load_dotenv()\n",
    "api_key = os.environ.get('OPENAI_API_KEY')\n",
    "\n",
    "if api_key:\n",
    "    print(\"API key loaded successfully!\")\n",
    "else:\n",
    "    print(\"Error: API key not found in .env file\")\n"
   ]
  },
  {
   "cell_type": "markdown",
   "metadata": {},
   "source": []
  }
 ],
 "metadata": {
  "kernelspec": {
   "display_name": "Programmatic-Prompting-for-Agents",
   "language": "python",
   "name": "programmatic-prompting-for-agents"
  },
  "language_info": {
   "codemirror_mode": {
    "name": "ipython",
    "version": 3
   },
   "file_extension": ".py",
   "mimetype": "text/x-python",
   "name": "python",
   "nbconvert_exporter": "python",
   "pygments_lexer": "ipython3",
   "version": "3.12.5"
  }
 },
 "nbformat": 4,
 "nbformat_minor": 2
}
