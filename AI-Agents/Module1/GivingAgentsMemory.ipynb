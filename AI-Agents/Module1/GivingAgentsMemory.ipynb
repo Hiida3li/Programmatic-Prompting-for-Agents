{
 "cells": [
  {
   "cell_type": "markdown",
   "metadata": {},
   "source": [
    "# Why Agents Need Memory\n",
    "When we build an AI Agent, it needs to remember what it has done and what the results were.\n",
    "\n",
    "For example, imagine the Agent is helping you book a flight. \n",
    "If it tries to book the ticket but fails because it used the wrong airport code, it should remember the error \n",
    "so it can fix the code and try again.\n",
    "\n",
    "If the Agent is doing a big task step by step (like finding flights, booking one, then sending you a confirmation), \n",
    "it needs to remember each step's result so it can keep going without starting over."
   ]
  },
  {
   "cell_type": "code",
   "execution_count": 1,
   "metadata": {},
   "outputs": [
    {
     "name": "stdout",
     "output_type": "stream",
     "text": [
      "API key loaded successfully!\n"
     ]
    }
   ],
   "source": [
    "import os\n",
    "from dotenv import load_dotenv\n",
    "\n",
    "# Get API key from environment variables\n",
    "load_dotenv()\n",
    "api_key = os.environ.get('OPENAI_API_KEY')\n",
    "\n",
    "if api_key:\n",
    "    print(\"API key loaded successfully!\")\n",
    "else:\n",
    "    print(\"Error: API key not found in .env file\")"
   ]
  },
  {
   "cell_type": "markdown",
   "metadata": {},
   "source": [
    "### Example without memory:"
   ]
  },
  {
   "cell_type": "code",
   "execution_count": 2,
   "metadata": {},
   "outputs": [
    {
     "name": "stdout",
     "output_type": "stream",
     "text": [
      "I don't have real-time data, so I can't provide the current price of carrots in Muscat. Prices for fresh produce can vary based on factors like the store, season, and market supply. I recommend checking with local grocery stores or online grocery delivery services in Muscat for the most accurate and up-to-date pricing.\n",
      "I'm sorry, but I need more information to provide an accurate answer. Could you please specify what you are referring to?\n"
     ]
    }
   ],
   "source": [
    "from litellm import completion\n",
    "from typing import List, Dict\n",
    "\n",
    "\n",
    "def generate_response(messages: List[Dict]) -> str:\n",
    "    \"\"\"Call LLM to get response\"\"\"\n",
    "    response = completion(\n",
    "        model=\"openai/gpt-4o\",\n",
    "        messages=messages,\n",
    "        max_tokens=1000\n",
    "    )\n",
    "    return response.choices[0].message.content\n",
    "\n",
    "messages = [\n",
    "    {\"role\": \"system\", \"content\": \"You are a helpful and friendly grocery expert.\"},\n",
    "    {\"role\": \"user\", \"content\": \"What is the price of carrots in Muscat?\"}\n",
    "]\n",
    "\n",
    "response = generate_response(messages)\n",
    "print(response)\n",
    "\n",
    "# Second query without including the previous response\n",
    "messages = [\n",
    "    {\"role\": \"user\", \"content\": \"What is their usual color?\"}\n",
    "]\n",
    "\n",
    "response = generate_response(messages)\n",
    "print(response)"
   ]
  },
  {
   "cell_type": "markdown",
   "metadata": {},
   "source": [
    "### Example 2: Including Previous Responses for Continuity\n"
   ]
  },
  {
   "cell_type": "code",
   "execution_count": 3,
   "metadata": {},
   "outputs": [
    {
     "name": "stdout",
     "output_type": "stream",
     "text": [
      "Carrots are usually orange, which is the most common color. However, they can also come in a variety of other colors, including purple, yellow, red, and white. These variations are typically found in specialty stores or markets that focus on heirloom or non-standard varieties. The orange color became popular due to Dutch growers in the 17th century who cultivated them as a tribute to the House of Orange.\n"
     ]
    }
   ],
   "source": [
    "\n",
    "messages = [\n",
    "   {\"role\": \"system\", \"content\": \"You are a helpful and friendly grocery expert.\"},\n",
    "   {\"role\": \"user\", \"content\": \"What is the price of carrots in Muscat?\"},\n",
    "   \n",
    "   # Here is the assistant's response from the previous step\n",
    "   # with the code. This gives it \"memory\" of the previous\n",
    "   # interaction.\n",
    "   {\"role\": \"assistant\", \"content\": response},\n",
    "   \n",
    "   # Now, we can ask the assistant to update the function\n",
    "   {\"role\": \"user\", \"content\": \"What is their usual color?\"}\n",
    "]\n",
    "\n",
    "response = generate_response(messages)\n",
    "print(response)"
   ]
  }
 ],
 "metadata": {
  "kernelspec": {
   "display_name": "Programmatic-Prompting-for-Agents",
   "language": "python",
   "name": "programmatic-prompting-for-agents"
  },
  "language_info": {
   "codemirror_mode": {
    "name": "ipython",
    "version": 3
   },
   "file_extension": ".py",
   "mimetype": "text/x-python",
   "name": "python",
   "nbconvert_exporter": "python",
   "pygments_lexer": "ipython3",
   "version": "3.12.5"
  }
 },
 "nbformat": 4,
 "nbformat_minor": 2
}
