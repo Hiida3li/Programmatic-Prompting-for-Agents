{
 "cells": [
  {
   "cell_type": "markdown",
   "metadata": {},
   "source": [
    "# Why Agents Need Memory\n",
    "When we build an AI Agent, it needs to remember what it has done and what the results were.\n",
    "\n",
    "For example, imagine the Agent is helping you book a flight. \n",
    "If it tries to book the ticket but fails because it used the wrong airport code, it should remember the error \n",
    "so it can fix the code and try again.\n",
    "\n",
    "If the Agent is doing a big task step by step (like finding flights, booking one, then sending you a confirmation), \n",
    "it needs to remember each step's result so it can keep going without starting over."
   ]
  },
  {
   "cell_type": "code",
   "execution_count": 1,
   "metadata": {},
   "outputs": [
    {
     "name": "stdout",
     "output_type": "stream",
     "text": [
      "API key loaded successfully!\n"
     ]
    }
   ],
   "source": [
    "import os\n",
    "from dotenv import load_dotenv\n",
    "\n",
    "# Get API key from environment variables\n",
    "load_dotenv()\n",
    "api_key = os.environ.get('OPENAI_API_KEY')\n",
    "\n",
    "if api_key:\n",
    "    print(\"API key loaded successfully!\")\n",
    "else:\n",
    "    print(\"Error: API key not found in .env file\")"
   ]
  },
  {
   "cell_type": "code",
   "execution_count": 2,
   "metadata": {},
   "outputs": [
    {
     "name": "stdout",
     "output_type": "stream",
     "text": [
      "To swap the keys and values in a dictionary, we can write a function that takes a dictionary as input and returns a new dictionary with keys and values swapped. It's important to note that if the original dictionary has duplicate values, after swapping, only one of the original keys will be kept, as keys in a dictionary must be unique.\n",
      "\n",
      "Here's how you can implement such a function in Python using a functional programming approach:\n",
      "\n",
      "```python\n",
      "def swap_keys_values(d):\n",
      "    return {value: key for key, value in d.items()}\n",
      "\n",
      "# Example usage\n",
      "original_dict = {'a': 1, 'b': 2, 'c': 3}\n",
      "swapped_dict = swap_keys_values(original_dict)\n",
      "print(swapped_dict)  # Output: {1: 'a', 2: 'b', 3: 'c'}\n",
      "```\n",
      "\n",
      "This function uses a dictionary comprehension to create a new dictionary by iterating over the items of the input dictionary and swapping each key with its corresponding value.\n",
      "\n",
      "Remember that this function will work correctly only if all values in the original dictionary are unique. If you know that the values might not be unique, you could modify the function to collect the keys in lists or handle the duplicates in another way, but this changes the constraints and expectations of traditional dictionary behavior.\n",
      "Certainly! When adding documentation to a function, it's common to use docstrings in Python. Docstrings provide an explanation of what the function does, its parameters, return values, and any other important information. Below is an example of how you can document a function using docstrings:\n",
      "\n",
      "Let's assume we have the following function:\n",
      "\n",
      "```python\n",
      "def add_numbers(a, b):\n",
      "    return a + b\n",
      "```\n",
      "\n",
      "Here's how you can update the function to include documentation:\n",
      "\n",
      "```python\n",
      "def add_numbers(a, b):\n",
      "    \"\"\"\n",
      "    Adds two numbers together.\n",
      "\n",
      "    Parameters:\n",
      "    a (int or float): The first number to be added.\n",
      "    b (int or float): The second number to be added.\n",
      "\n",
      "    Returns:\n",
      "    int or float: The sum of the two numbers.\n",
      "\n",
      "    Example:\n",
      "    >>> add_numbers(2, 3)\n",
      "    5\n",
      "    >>> add_numbers(1.2, 3.4)\n",
      "    4.6\n",
      "    \"\"\"\n",
      "    return a + b\n",
      "```\n",
      "\n",
      "Here's a breakdown of the components of this docstring:\n",
      "\n",
      "- **Description**: A short, concise description of what the function does.\n",
      "- **Parameters**: A section specifying the parameters that the function accepts, along with their expected data types and a brief description of their purpose.\n",
      "- **Returns**: Describes the data type of the value the function returns and a brief description of what that return value represents.\n",
      "- **Example**: Shows examples of how to use the function, including sample inputs and outputs.\n",
      "\n",
      "This format helps users understand how to properly use the function and what to expect from it. It's also useful for tools that automatically generate documentation from your code.\n"
     ]
    }
   ],
   "source": [
    "from litellm import completion\n",
    "from typing import List, Dict\n",
    "\n",
    "\n",
    "def generate_response(messages: List[Dict]) -> str:\n",
    "    \"\"\"Call LLM to get response\"\"\"\n",
    "    response = completion(\n",
    "        model=\"openai/gpt-4o\",\n",
    "        messages=messages,\n",
    "        max_tokens=1024\n",
    "    )\n",
    "    return response.choices[0].message.content\n",
    "\n",
    "messages = [\n",
    "    {\"role\": \"system\", \"content\": \"You are an expert software engineer that prefers functional programming.\"},\n",
    "    {\"role\": \"user\", \"content\": \"Write a function to swap the keys and values in a dictionary.\"}\n",
    "]\n",
    "\n",
    "response = generate_response(messages)\n",
    "print(response)\n",
    "\n",
    "# Second query without including the previous response\n",
    "messages = [\n",
    "    {\"role\": \"user\", \"content\": \"Update the function to include documentation.\"}\n",
    "]\n",
    "\n",
    "response = generate_response(messages)\n",
    "print(response)"
   ]
  },
  {
   "cell_type": "code",
   "execution_count": null,
   "metadata": {},
   "outputs": [],
   "source": []
  }
 ],
 "metadata": {
  "kernelspec": {
   "display_name": "Programmatic-Prompting-for-Agents",
   "language": "python",
   "name": "programmatic-prompting-for-agents"
  },
  "language_info": {
   "codemirror_mode": {
    "name": "ipython",
    "version": 3
   },
   "file_extension": ".py",
   "mimetype": "text/x-python",
   "name": "python",
   "nbconvert_exporter": "python",
   "pygments_lexer": "ipython3",
   "version": "3.12.5"
  }
 },
 "nbformat": 4,
 "nbformat_minor": 2
}
