{
 "cells": [
  {
   "cell_type": "markdown",
   "metadata": {},
   "source": [
    "# Why Agents Need Memory\n",
    "When we build an AI Agent, it needs to remember what it has done and what the results were.\n",
    "\n",
    "For example, imagine the Agent is helping you book a flight. \n",
    "If it tries to book the ticket but fails because it used the wrong airport code, it should remember the error \n",
    "so it can fix the code and try again.\n",
    "\n",
    "If the Agent is doing a big task step by step (like finding flights, booking one, then sending you a confirmation), \n",
    "it needs to remember each step's result so it can keep going without starting over."
   ]
  },
  {
   "cell_type": "code",
   "execution_count": 1,
   "metadata": {},
   "outputs": [
    {
     "name": "stdout",
     "output_type": "stream",
     "text": [
      "API key loaded successfully!\n"
     ]
    }
   ],
   "source": [
    "import os\n",
    "from dotenv import load_dotenv\n",
    "\n",
    "# Get API key from environment variables\n",
    "load_dotenv()\n",
    "api_key = os.environ.get('OPENAI_API_KEY')\n",
    "\n",
    "if api_key:\n",
    "    print(\"API key loaded successfully!\")\n",
    "else:\n",
    "    print(\"Error: API key not found in .env file\")"
   ]
  },
  {
   "cell_type": "markdown",
   "metadata": {},
   "source": [
    "### Example without memory:"
   ]
  },
  {
   "cell_type": "code",
   "execution_count": null,
   "metadata": {},
   "outputs": [
    {
     "name": "stdout",
     "output_type": "stream",
     "text": [
      "Sure! In functional programming, immutability is a key concept, so when performing operations like swapping keys and values in a dictionary, we can make use of immutable data structures and functions that return new data structures instead of modifying the existing ones. Since Python is multi-paradigm and supports both functional programming and other styles, we can achieve this by using functions like `map` and dictionary comprehensions.\n",
      "\n",
      "Here’s how you can write a function to swap the keys and values in a dictionary:\n",
      "\n",
      "```python\n",
      "def swap_keys_values(d):\n",
      "    return {value: key for key, value in d.items()}\n",
      "\n",
      "# Example usage:\n",
      "original_dict = {'a': 1, 'b': 2, 'c': 3}\n",
      "swapped_dict = swap_keys_values(original_dict)\n",
      "print(swapped_dict)\n",
      "```\n",
      "\n",
      "### Explanation\n",
      "\n",
      "1. **Dictionary Comprehension**: We use dictionary comprehension with `for key, value in d.items()`, which iterates over each key-value pair in the dictionary `d`.\n",
      "   \n",
      "2. **Swapping**: For each key-value pair, the new dictionary `{value: key}` swaps the roles of key and value.\n",
      "\n",
      "3. **Immutability**: Note that this operation results in a new dictionary being created, leaving the original dictionary `d` unchanged.\n",
      "\n",
      "### Note\n",
      "\n",
      "- This function assumes all values in the dictionary are unique. If there are duplicate values in the original dictionary, they will override each other in the new dictionary since dictionary keys must be unique. You might want to handle such cases depending on your specific requirements.\n"
     ]
    }
   ],
   "source": [
    "from litellm import completion\n",
    "from typing import List, Dict\n",
    "\n",
    "\n",
    "def generate_response(messages: List[Dict]) -> str:\n",
    "    \"\"\"Call LLM to get response\"\"\"\n",
    "    response = completion(\n",
    "        model=\"openai/gpt-4o\",\n",
    "        messages=messages,\n",
    "        max_tokens=1000\n",
    "    )\n",
    "    return response.choices[0].message.content\n",
    "\n",
    "messages = [\n",
    "    {\"role\": \"system\", \"content\": \"You are an expert software engineer that prefers functional programming.\"},\n",
    "    {\"role\": \"user\", \"content\": \"Write a function to swap the keys and values in a dictionary.\"}\n",
    "]\n",
    "\n",
    "response = generate_response(messages)\n",
    "print(response)\n",
    "\n",
    "# Second query without including the previous response\n",
    "messages = [\n",
    "    {\"role\": \"user\", \"content\": \"Update the function to include documentation.\"}\n",
    "]\n",
    "\n",
    "response = generate_response(messages)\n",
    "print(response)"
   ]
  },
  {
   "cell_type": "markdown",
   "metadata": {},
   "source": [
    "### Example 2: Including Previous Responses for Continuity\n"
   ]
  },
  {
   "cell_type": "code",
   "execution_count": 20,
   "metadata": {},
   "outputs": [
    {
     "name": "stdout",
     "output_type": "stream",
     "text": [
      "Carrots are most commonly known for their bright orange color. However, they can also come in a variety of other colors, including purple, yellow, red, and white. These color variations are due to different pigments in the carrots, such as beta-carotene in orange carrots, anthocyanins in purple carrots, and lutein in yellow carrots. Each type can offer slightly different flavors and nutritional benefits, but orange carrots remain the most popular and widely available.\n"
     ]
    }
   ],
   "source": [
    "\n",
    "messages = [\n",
    "   {\"role\": \"system\", \"content\": \"You are a helpful and friendly grocery expert.\"},\n",
    "   {\"role\": \"user\", \"content\": \"What is the price of carrots in Muscat?\"},\n",
    "   \n",
    "   # Here is the assistant's response from the previous step\n",
    "   # with the code. This gives it \"memory\" of the previous\n",
    "   # interaction.\n",
    "   {\"role\": \"assistant\", \"content\": response},\n",
    "   \n",
    "   # Now, we can ask the assistant to update the function\n",
    "   {\"role\": \"user\", \"content\": \"What is their usual color?\"}\n",
    "]\n",
    "\n",
    "response = generate_response(messages)\n",
    "print(response)"
   ]
  },
  {
   "cell_type": "code",
   "execution_count": null,
   "metadata": {},
   "outputs": [],
   "source": []
  }
 ],
 "metadata": {
  "kernelspec": {
   "display_name": "Programmatic-Prompting-for-Agents",
   "language": "python",
   "name": "programmatic-prompting-for-agents"
  },
  "language_info": {
   "codemirror_mode": {
    "name": "ipython",
    "version": 3
   },
   "file_extension": ".py",
   "mimetype": "text/x-python",
   "name": "python",
   "nbconvert_exporter": "python",
   "pygments_lexer": "ipython3",
   "version": "3.12.5"
  }
 },
 "nbformat": 4,
 "nbformat_minor": 2
}
